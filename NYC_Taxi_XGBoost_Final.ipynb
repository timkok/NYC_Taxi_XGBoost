{
  "nbformat": 4,
  "nbformat_minor": 0,
  "metadata": {
    "kernelspec": {
      "display_name": "Python 3",
      "language": "python",
      "name": "python3"
    },
    "language_info": {
      "name": "python",
      "version": "3.6.4",
      "mimetype": "text/x-python",
      "codemirror_mode": {
        "name": "ipython",
        "version": 3
      },
      "pygments_lexer": "ipython3",
      "nbconvert_exporter": "python",
      "file_extension": ".py"
    },
    "colab": {
      "name": "NYC_Taxi_XGBoost_Final.ipynb",
      "provenance": [],
      "toc_visible": true
    },
    "accelerator": "GPU"
  },
  "cells": [
    {
      "cell_type": "markdown",
      "metadata": {
        "_uuid": "cda540a26ae5924ae74dbaf88ea931dbc11d61d0",
        "id": "s95KSXueCrnf"
      },
      "source": [
        "# Bayesian Optimization with XGBoost"
      ]
    },
    {
      "cell_type": "code",
      "metadata": {
        "id": "hHmafQrtC4JX",
        "colab": {
          "base_uri": "https://localhost:8080/",
          "height": 125
        },
        "outputId": "86ba229a-d6a1-48b0-fb32-6b28b0a16613"
      },
      "source": [
        "from google.colab import drive\n",
        "drive.mount('/content/drive')"
      ],
      "execution_count": null,
      "outputs": [
        {
          "output_type": "stream",
          "text": [
            "Go to this URL in a browser: https://accounts.google.com/o/oauth2/auth?client_id=947318989803-6bn6qk8qdgf4n4g3pfee6491hc0brc4i.apps.googleusercontent.com&redirect_uri=urn%3aietf%3awg%3aoauth%3a2.0%3aoob&response_type=code&scope=email%20https%3a%2f%2fwww.googleapis.com%2fauth%2fdocs.test%20https%3a%2f%2fwww.googleapis.com%2fauth%2fdrive%20https%3a%2f%2fwww.googleapis.com%2fauth%2fdrive.photos.readonly%20https%3a%2f%2fwww.googleapis.com%2fauth%2fpeopleapi.readonly\n",
            "\n",
            "Enter your authorization code:\n",
            "··········\n",
            "Mounted at /content/drive\n"
          ],
          "name": "stdout"
        }
      ]
    },
    {
      "cell_type": "code",
      "metadata": {
        "id": "zf2pdC2QFYT1",
        "colab": {
          "base_uri": "https://localhost:8080/",
          "height": 723
        },
        "outputId": "6b63c3e4-2f36-47d6-ddfc-f1c9a5e676a8"
      },
      "source": [
        "import pandas as pd\n",
        "import numpy as np\n",
        "import matplotlib.pyplot as plt\n",
        "import google.colab\n",
        "\n",
        "!wget https://raw.githubusercontent.com/krasserm/bayesian-machine-learning/master/bayesian_optimization_util.py\n",
        "\n",
        "!pip install scikit-optimize\n",
        "!pip install xgboost\n",
        "!pip install bayesian-optimization==0.6.0\n",
        "\n",
        "import xgboost as xgb\n",
        "from sklearn.metrics import mean_squared_error\n",
        "from bayes_opt import BayesianOptimization"
      ],
      "execution_count": null,
      "outputs": [
        {
          "output_type": "stream",
          "text": [
            "--2020-07-07 01:38:11--  https://raw.githubusercontent.com/krasserm/bayesian-machine-learning/master/bayesian_optimization_util.py\n",
            "Resolving raw.githubusercontent.com (raw.githubusercontent.com)... 151.101.0.133, 151.101.64.133, 151.101.128.133, ...\n",
            "Connecting to raw.githubusercontent.com (raw.githubusercontent.com)|151.101.0.133|:443... connected.\n",
            "HTTP request sent, awaiting response... 200 OK\n",
            "Length: 1536 (1.5K) [text/plain]\n",
            "Saving to: ‘bayesian_optimization_util.py’\n",
            "\n",
            "\r          bayesian_   0%[                    ]       0  --.-KB/s               \rbayesian_optimizati 100%[===================>]   1.50K  --.-KB/s    in 0s      \n",
            "\n",
            "2020-07-07 01:38:12 (22.3 MB/s) - ‘bayesian_optimization_util.py’ saved [1536/1536]\n",
            "\n",
            "Collecting scikit-optimize\n",
            "\u001b[?25l  Downloading https://files.pythonhosted.org/packages/5c/87/310b52debfbc0cb79764e5770fa3f5c18f6f0754809ea9e2fc185e1b67d3/scikit_optimize-0.7.4-py2.py3-none-any.whl (80kB)\n",
            "\u001b[K     |████████████████████████████████| 81kB 2.1MB/s \n",
            "\u001b[?25hRequirement already satisfied: scipy>=0.18.0 in /usr/local/lib/python3.6/dist-packages (from scikit-optimize) (1.4.1)\n",
            "Requirement already satisfied: numpy>=1.11.0 in /usr/local/lib/python3.6/dist-packages (from scikit-optimize) (1.18.5)\n",
            "Requirement already satisfied: joblib>=0.11 in /usr/local/lib/python3.6/dist-packages (from scikit-optimize) (0.15.1)\n",
            "Requirement already satisfied: scikit-learn>=0.19.1 in /usr/local/lib/python3.6/dist-packages (from scikit-optimize) (0.22.2.post1)\n",
            "Collecting pyaml>=16.9\n",
            "  Downloading https://files.pythonhosted.org/packages/15/c4/1310a054d33abc318426a956e7d6df0df76a6ddfa9c66f6310274fb75d42/pyaml-20.4.0-py2.py3-none-any.whl\n",
            "Requirement already satisfied: PyYAML in /usr/local/lib/python3.6/dist-packages (from pyaml>=16.9->scikit-optimize) (3.13)\n",
            "Installing collected packages: pyaml, scikit-optimize\n",
            "Successfully installed pyaml-20.4.0 scikit-optimize-0.7.4\n",
            "Requirement already satisfied: xgboost in /usr/local/lib/python3.6/dist-packages (0.90)\n",
            "Requirement already satisfied: numpy in /usr/local/lib/python3.6/dist-packages (from xgboost) (1.18.5)\n",
            "Requirement already satisfied: scipy in /usr/local/lib/python3.6/dist-packages (from xgboost) (1.4.1)\n",
            "Collecting bayesian-optimization==0.6.0\n",
            "  Downloading https://files.pythonhosted.org/packages/83/3d/d2dc2abaef016c597febfce67c6868ee4c3d1b81e9b9e4f0b3ad551a3625/bayesian-optimization-0.6.0.tar.gz\n",
            "Requirement already satisfied: numpy>=1.9.0 in /usr/local/lib/python3.6/dist-packages (from bayesian-optimization==0.6.0) (1.18.5)\n",
            "Requirement already satisfied: scipy>=0.14.0 in /usr/local/lib/python3.6/dist-packages (from bayesian-optimization==0.6.0) (1.4.1)\n",
            "Requirement already satisfied: scikit-learn>=0.18.0 in /usr/local/lib/python3.6/dist-packages (from bayesian-optimization==0.6.0) (0.22.2.post1)\n",
            "Requirement already satisfied: joblib>=0.11 in /usr/local/lib/python3.6/dist-packages (from scikit-learn>=0.18.0->bayesian-optimization==0.6.0) (0.15.1)\n",
            "Building wheels for collected packages: bayesian-optimization\n",
            "  Building wheel for bayesian-optimization (setup.py) ... \u001b[?25l\u001b[?25hdone\n",
            "  Created wheel for bayesian-optimization: filename=bayesian_optimization-0.6.0-cp36-none-any.whl size=10828 sha256=7ced967e4ce4cb8bcd451b195b10bdc75eff8d43d63eb70406699d622046d038\n",
            "  Stored in directory: /root/.cache/pip/wheels/f5/ef/5c/9ff1d2d86ad1117bf4cd3f989356ae46fa907014ece63b09dd\n",
            "Successfully built bayesian-optimization\n",
            "Installing collected packages: bayesian-optimization\n",
            "Successfully installed bayesian-optimization-0.6.0\n"
          ],
          "name": "stdout"
        }
      ]
    },
    {
      "cell_type": "code",
      "metadata": {
        "id": "KT79Tp3dTuoc"
      },
      "source": [
        "pip list"
      ],
      "execution_count": null,
      "outputs": []
    },
    {
      "cell_type": "markdown",
      "metadata": {
        "_uuid": "664fd6cfdc243b36e381f0a2a8df26723399f193",
        "id": "DVEDV7SaCrnn"
      },
      "source": [
        "## Read Data\n"
      ]
    },
    {
      "cell_type": "code",
      "metadata": {
        "trusted": true,
        "_uuid": "f291b361888117692c878324f79336cc97f887d8",
        "id": "idONaVO_Crno"
      },
      "source": [
        "df = pd.read_csv('/content/drive/My Drive/NJIT Classes/Graduate/U20/CS634/Project 2/train.csv',nrows=1_000_000, usecols=[1,2,3,4,5,6,7])\n",
        "\n",
        "#df = pd.read_csv('/content/drive/My Drive/NJIT/CS634/Project 2/train.csv', usecols=[1,2,3,4,5,6,7])"
      ],
      "execution_count": null,
      "outputs": []
    },
    {
      "cell_type": "code",
      "metadata": {
        "trusted": true,
        "_uuid": "75adeacb8a54ffa5bfa6b900ed9874496d085da8",
        "id": "fg-uqidgCrnu",
        "colab": {
          "base_uri": "https://localhost:8080/",
          "height": 228
        },
        "outputId": "30b2c05f-e1aa-45a6-87d4-5951f59bb79d"
      },
      "source": [
        "df['pickup_datetime'] = df['pickup_datetime'].str.slice(0, 16)\n",
        "df['pickup_datetime'] = pd.to_datetime(df['pickup_datetime'], utc=True, format='%Y-%m-%d %H:%M')\n",
        "df['pickup_datetime']"
      ],
      "execution_count": null,
      "outputs": [
        {
          "output_type": "execute_result",
          "data": {
            "text/plain": [
              "0        2009-06-15 17:26:00+00:00\n",
              "1        2010-01-05 16:52:00+00:00\n",
              "2        2011-08-18 00:35:00+00:00\n",
              "3        2012-04-21 04:30:00+00:00\n",
              "4        2010-03-09 07:51:00+00:00\n",
              "                    ...           \n",
              "999995   2014-09-13 21:44:00+00:00\n",
              "999996   2010-09-20 14:50:00+00:00\n",
              "999997   2013-04-26 14:03:00+00:00\n",
              "999998   2011-07-08 00:29:00+00:00\n",
              "999999   2009-12-31 14:30:00+00:00\n",
              "Name: pickup_datetime, Length: 1000000, dtype: datetime64[ns, UTC]"
            ]
          },
          "metadata": {
            "tags": []
          },
          "execution_count": 5
        }
      ]
    },
    {
      "cell_type": "code",
      "metadata": {
        "id": "6Efz9M-p7Laa",
        "colab": {
          "base_uri": "https://localhost:8080/",
          "height": 402
        },
        "outputId": "a9d97113-0478-456f-99d8-c9bf2bab89e3"
      },
      "source": [
        "df"
      ],
      "execution_count": null,
      "outputs": [
        {
          "output_type": "execute_result",
          "data": {
            "text/html": [
              "<div>\n",
              "<style scoped>\n",
              "    .dataframe tbody tr th:only-of-type {\n",
              "        vertical-align: middle;\n",
              "    }\n",
              "\n",
              "    .dataframe tbody tr th {\n",
              "        vertical-align: top;\n",
              "    }\n",
              "\n",
              "    .dataframe thead th {\n",
              "        text-align: right;\n",
              "    }\n",
              "</style>\n",
              "<table border=\"1\" class=\"dataframe\">\n",
              "  <thead>\n",
              "    <tr style=\"text-align: right;\">\n",
              "      <th></th>\n",
              "      <th>fare_amount</th>\n",
              "      <th>pickup_datetime</th>\n",
              "      <th>pickup_longitude</th>\n",
              "      <th>pickup_latitude</th>\n",
              "      <th>dropoff_longitude</th>\n",
              "      <th>dropoff_latitude</th>\n",
              "      <th>passenger_count</th>\n",
              "    </tr>\n",
              "  </thead>\n",
              "  <tbody>\n",
              "    <tr>\n",
              "      <th>0</th>\n",
              "      <td>4.5</td>\n",
              "      <td>2009-06-15 17:26:00+00:00</td>\n",
              "      <td>-73.844311</td>\n",
              "      <td>40.721319</td>\n",
              "      <td>-73.841610</td>\n",
              "      <td>40.712278</td>\n",
              "      <td>1</td>\n",
              "    </tr>\n",
              "    <tr>\n",
              "      <th>1</th>\n",
              "      <td>16.9</td>\n",
              "      <td>2010-01-05 16:52:00+00:00</td>\n",
              "      <td>-74.016048</td>\n",
              "      <td>40.711303</td>\n",
              "      <td>-73.979268</td>\n",
              "      <td>40.782004</td>\n",
              "      <td>1</td>\n",
              "    </tr>\n",
              "    <tr>\n",
              "      <th>2</th>\n",
              "      <td>5.7</td>\n",
              "      <td>2011-08-18 00:35:00+00:00</td>\n",
              "      <td>-73.982738</td>\n",
              "      <td>40.761270</td>\n",
              "      <td>-73.991242</td>\n",
              "      <td>40.750562</td>\n",
              "      <td>2</td>\n",
              "    </tr>\n",
              "    <tr>\n",
              "      <th>3</th>\n",
              "      <td>7.7</td>\n",
              "      <td>2012-04-21 04:30:00+00:00</td>\n",
              "      <td>-73.987130</td>\n",
              "      <td>40.733143</td>\n",
              "      <td>-73.991567</td>\n",
              "      <td>40.758092</td>\n",
              "      <td>1</td>\n",
              "    </tr>\n",
              "    <tr>\n",
              "      <th>4</th>\n",
              "      <td>5.3</td>\n",
              "      <td>2010-03-09 07:51:00+00:00</td>\n",
              "      <td>-73.968095</td>\n",
              "      <td>40.768008</td>\n",
              "      <td>-73.956655</td>\n",
              "      <td>40.783762</td>\n",
              "      <td>1</td>\n",
              "    </tr>\n",
              "    <tr>\n",
              "      <th>...</th>\n",
              "      <td>...</td>\n",
              "      <td>...</td>\n",
              "      <td>...</td>\n",
              "      <td>...</td>\n",
              "      <td>...</td>\n",
              "      <td>...</td>\n",
              "      <td>...</td>\n",
              "    </tr>\n",
              "    <tr>\n",
              "      <th>999995</th>\n",
              "      <td>7.0</td>\n",
              "      <td>2014-09-13 21:44:00+00:00</td>\n",
              "      <td>-73.976676</td>\n",
              "      <td>40.785630</td>\n",
              "      <td>-73.959196</td>\n",
              "      <td>40.775114</td>\n",
              "      <td>1</td>\n",
              "    </tr>\n",
              "    <tr>\n",
              "      <th>999996</th>\n",
              "      <td>7.3</td>\n",
              "      <td>2010-09-20 14:50:00+00:00</td>\n",
              "      <td>-73.992103</td>\n",
              "      <td>40.671385</td>\n",
              "      <td>-73.992103</td>\n",
              "      <td>40.671385</td>\n",
              "      <td>2</td>\n",
              "    </tr>\n",
              "    <tr>\n",
              "      <th>999997</th>\n",
              "      <td>10.5</td>\n",
              "      <td>2013-04-26 14:03:00+00:00</td>\n",
              "      <td>-73.978423</td>\n",
              "      <td>40.751135</td>\n",
              "      <td>-73.993397</td>\n",
              "      <td>40.762197</td>\n",
              "      <td>5</td>\n",
              "    </tr>\n",
              "    <tr>\n",
              "      <th>999998</th>\n",
              "      <td>6.9</td>\n",
              "      <td>2011-07-08 00:29:00+00:00</td>\n",
              "      <td>-73.980317</td>\n",
              "      <td>40.759482</td>\n",
              "      <td>-73.976832</td>\n",
              "      <td>40.743122</td>\n",
              "      <td>1</td>\n",
              "    </tr>\n",
              "    <tr>\n",
              "      <th>999999</th>\n",
              "      <td>4.1</td>\n",
              "      <td>2009-12-31 14:30:00+00:00</td>\n",
              "      <td>-74.006635</td>\n",
              "      <td>40.741598</td>\n",
              "      <td>-73.999450</td>\n",
              "      <td>40.745702</td>\n",
              "      <td>1</td>\n",
              "    </tr>\n",
              "  </tbody>\n",
              "</table>\n",
              "<p>1000000 rows × 7 columns</p>\n",
              "</div>"
            ],
            "text/plain": [
              "        fare_amount  ... passenger_count\n",
              "0               4.5  ...               1\n",
              "1              16.9  ...               1\n",
              "2               5.7  ...               2\n",
              "3               7.7  ...               1\n",
              "4               5.3  ...               1\n",
              "...             ...  ...             ...\n",
              "999995          7.0  ...               1\n",
              "999996          7.3  ...               2\n",
              "999997         10.5  ...               5\n",
              "999998          6.9  ...               1\n",
              "999999          4.1  ...               1\n",
              "\n",
              "[1000000 rows x 7 columns]"
            ]
          },
          "metadata": {
            "tags": []
          },
          "execution_count": 6
        }
      ]
    },
    {
      "cell_type": "markdown",
      "metadata": {
        "_uuid": "221ae597a851dd2f83965faf2929e0f8751a21c9",
        "id": "M0GFxz-yCrnz"
      },
      "source": [
        "## Clean"
      ]
    },
    {
      "cell_type": "code",
      "metadata": {
        "trusted": true,
        "_uuid": "09eb6e85145905ef6960a71033a1355e920db732",
        "id": "f6OXsDmeCrn0"
      },
      "source": [
        "# Remove observations with missing values\n",
        "df.dropna(how='any', axis='rows', inplace=True)\n",
        "\n",
        "# Removing observations with erroneous values\n",
        "mask = df['pickup_longitude'].between(-75, -73)\n",
        "mask &= df['dropoff_longitude'].between(-75, -73)\n",
        "mask &= df['pickup_latitude'].between(40, 42)\n",
        "mask &= df['dropoff_latitude'].between(40, 42)\n",
        "mask &= df['passenger_count'].between(0, 8)\n",
        "mask &= df['fare_amount'].between(0, 250)\n",
        "\n",
        "df = df[mask]"
      ],
      "execution_count": null,
      "outputs": []
    },
    {
      "cell_type": "markdown",
      "metadata": {
        "_uuid": "e942cb62da136628d643f992ba2a0aabc88b2010",
        "id": "zo80ReVbCrn5"
      },
      "source": [
        "## Feature Engineering\n",
        "Manhattan distance provides a better approximation of actual travelled distance than haversine for most trips."
      ]
    },
    {
      "cell_type": "code",
      "metadata": {
        "trusted": true,
        "_uuid": "4617497b6b64c20f4f29361fcaccb46663ba105d",
        "id": "qIIYmG6UCrn6"
      },
      "source": [
        "def dist(pickup_lat, pickup_long, dropoff_lat, dropoff_long):  \n",
        "    distance = np.abs(dropoff_lat - pickup_lat) + np.abs(dropoff_long - pickup_long)\n",
        "    \n",
        "    return distance"
      ],
      "execution_count": null,
      "outputs": []
    },
    {
      "cell_type": "code",
      "metadata": {
        "trusted": true,
        "_uuid": "a81eb1b903e65143e9c5af2670235d1e03b09093",
        "id": "FjV_OMQoCroA"
      },
      "source": [
        "def transform(data):\n",
        "    # Extract date attributes and then drop the pickup_datetime column\n",
        "    data['hour'] = data['pickup_datetime'].dt.hour\n",
        "    data['day'] = data['pickup_datetime'].dt.day\n",
        "    data['month'] = data['pickup_datetime'].dt.month\n",
        "    data['year'] = data['pickup_datetime'].dt.year\n",
        "    data = data.drop('pickup_datetime', axis=1)\n",
        "\n",
        "    # Distances to nearby airports, and city center\n",
        "    # By reporting distances to these points, the model can somewhat triangulate other locations of interest\n",
        "    nyc = (-74.0063889, 40.7141667)\n",
        "    jfk = (-73.7822222222, 40.6441666667)\n",
        "    ewr = (-74.175, 40.69)\n",
        "    lgr = (-73.87, 40.77)\n",
        "    data['distance_to_center'] = dist(nyc[1], nyc[0],\n",
        "                                      data['pickup_latitude'], data['pickup_longitude'])\n",
        "    data['pickup_distance_to_jfk'] = dist(jfk[1], jfk[0],\n",
        "                                         data['pickup_latitude'], data['pickup_longitude'])\n",
        "    data['dropoff_distance_to_jfk'] = dist(jfk[1], jfk[0],\n",
        "                                           data['dropoff_latitude'], data['dropoff_longitude'])\n",
        "    data['pickup_distance_to_ewr'] = dist(ewr[1], ewr[0], \n",
        "                                          data['pickup_latitude'], data['pickup_longitude'])\n",
        "    data['dropoff_distance_to_ewr'] = dist(ewr[1], ewr[0],\n",
        "                                           data['dropoff_latitude'], data['dropoff_longitude'])\n",
        "    data['pickup_distance_to_lgr'] = dist(lgr[1], lgr[0],\n",
        "                                          data['pickup_latitude'], data['pickup_longitude'])\n",
        "    data['dropoff_distance_to_lgr'] = dist(lgr[1], lgr[0],\n",
        "                                           data['dropoff_latitude'], data['dropoff_longitude'])\n",
        "    \n",
        "    data['long_dist'] = data['pickup_longitude'] - data['dropoff_longitude']\n",
        "    data['lat_dist'] = data['pickup_latitude'] - data['dropoff_latitude']\n",
        "    \n",
        "    data['dist'] = dist(data['pickup_latitude'], data['pickup_longitude'],\n",
        "                        data['dropoff_latitude'], data['dropoff_longitude'])\n",
        "    \n",
        "    return data\n",
        "\n",
        "\n",
        "df = transform(df)"
      ],
      "execution_count": null,
      "outputs": []
    },
    {
      "cell_type": "markdown",
      "metadata": {
        "_uuid": "de86eebde9923ffa8d337a0ea5903737e7cdf81a",
        "id": "BPYgfLzoCroF"
      },
      "source": [
        "## Train/Test split"
      ]
    },
    {
      "cell_type": "code",
      "metadata": {
        "trusted": true,
        "_uuid": "5da11d8c8a2fbbc0d18496c8b9500e2a2f0dd1ac",
        "id": "IhDHBU5gCroL"
      },
      "source": [
        "from sklearn.model_selection import train_test_split\n",
        "\n",
        "X_train, X_test, y_train, y_test = train_test_split(df.drop('fare_amount', axis=1),\n",
        "                                                    df['fare_amount'], test_size=0.25)\n",
        "del(df)\n",
        "dtrain = xgb.DMatrix(X_train, label=y_train)\n",
        "del(X_train)\n",
        "dtest = xgb.DMatrix(X_test)\n",
        "del(X_test)"
      ],
      "execution_count": null,
      "outputs": []
    },
    {
      "cell_type": "markdown",
      "metadata": {
        "_uuid": "7dabc51b1618a4dabf440a2c108826078e0f4ba5",
        "id": "wrYU2rHeCroP"
      },
      "source": [
        "## Training\n",
        "Optimizing hyperparameters with bayesian optimization. "
      ]
    },
    {
      "cell_type": "code",
      "metadata": {
        "trusted": true,
        "_uuid": "911e7524fc9ced3ce909f77da5b1fbf251b7f910",
        "id": "0MeK3BquCroQ"
      },
      "source": [
        "def xgb_evaluate(max_depth, gamma, colsample_bytree):\n",
        "    params = {'eval_metric': 'rmse',\n",
        "              'max_depth': int(max_depth),\n",
        "              'subsample': 0.8,\n",
        "              'eta': 0.1,\n",
        "              'gamma': gamma,\n",
        "              'colsample_bytree': colsample_bytree}\n",
        "    # Used around 1000 boosting rounds in the full model\n",
        "    cv_result = xgb.cv(params, dtrain, num_boost_round=1000, nfold=10)    \n",
        "    \n",
        "    return -1.0 * cv_result['test-rmse-mean'].iloc[-1]"
      ],
      "execution_count": null,
      "outputs": []
    },
    {
      "cell_type": "code",
      "metadata": {
        "scrolled": true,
        "trusted": true,
        "_uuid": "f2a8ff48bed0f13e05687d2ec694fb5f1f2bcd81",
        "id": "o7_2SK3HCroV",
        "colab": {
          "base_uri": "https://localhost:8080/",
          "height": 386
        },
        "outputId": "47043b6a-bf2e-4822-9c86-ff6b94881cdf"
      },
      "source": [
        "xgb_bo = BayesianOptimization(xgb_evaluate, {'max_depth': (3, 7), \n",
        "                                             'gamma': (0, 1),\n",
        "                                             'colsample_bytree': (0.3, 0.9)})\n",
        "# Use the expected improvement acquisition function to handle negative numbers\n",
        "xgb_bo.maximize(init_points=5, n_iter=10, acq='ei')"
      ],
      "execution_count": null,
      "outputs": [
        {
          "output_type": "stream",
          "text": [
            "\u001b[31mInitialization\u001b[0m\n",
            "\u001b[94m----------------------------------------------------------------------------\u001b[0m\n",
            " Step |   Time |      Value |   colsample_bytree |     gamma |   max_depth | \n",
            "    1 | 15m49s | \u001b[35m  -3.87127\u001b[0m | \u001b[32m            0.8472\u001b[0m | \u001b[32m   0.6559\u001b[0m | \u001b[32m     4.1107\u001b[0m | \n",
            "    2 | 16m45s | \u001b[35m  -3.75968\u001b[0m | \u001b[32m            0.4234\u001b[0m | \u001b[32m   0.4733\u001b[0m | \u001b[32m     6.0638\u001b[0m | \n",
            "    3 | 08m30s |   -4.05186 |             0.3908 |    0.8311 |      3.1184 | \n",
            "    4 | 21m26s |   -3.80361 |             0.8262 |    0.0541 |      5.4394 | \n",
            "    5 | 11m48s |   -4.00454 |             0.7595 |    0.4346 |      3.0247 | \n",
            "\u001b[31mBayesian Optimization\u001b[0m\n",
            "\u001b[94m----------------------------------------------------------------------------\u001b[0m\n",
            " Step |   Time |      Value |   colsample_bytree |     gamma |   max_depth | \n",
            "    6 | 34m12s | \u001b[35m  -3.69691\u001b[0m | \u001b[32m            0.9000\u001b[0m | \u001b[32m   1.0000\u001b[0m | \u001b[32m     7.0000\u001b[0m | \n",
            "    7 | 15m29s |   -3.75308 |             0.3000 |    1.0000 |      7.0000 | \n",
            "    8 | 27m20s |   -3.75137 |             0.9000 |    1.0000 |      6.0565 | \n",
            "    9 | 34m01s |   -3.69733 |             0.9000 |    0.0000 |      7.0000 | \n",
            "   10 | 14m50s |   -3.75297 |             0.3000 |    0.0000 |      7.0000 | \n",
            "   11 | 32m23s |   -3.69847 |             0.9000 |    0.5009 |      7.0000 | \n",
            "   12 | 27m31s |   -3.75121 |             0.8961 |    0.0198 |      6.7386 | \n",
            "   13 | 11m00s |   -3.85485 |             0.3000 |    1.0000 |      5.3326 | \n",
            "   14 | 08m58s |   -3.94110 |             0.3000 |    0.0000 |      4.2552 | \n",
            "   15 | 27m52s |   -3.75132 |             0.8970 |    0.9078 |      6.9941 | \n"
          ],
          "name": "stdout"
        }
      ]
    },
    {
      "cell_type": "markdown",
      "metadata": {
        "_uuid": "e1a4ea8f4c4f033c6c31f0a4001be503a535767c",
        "id": "eqpFcd_WCroZ"
      },
      "source": [
        "Extract the parameters of the best model."
      ]
    },
    {
      "cell_type": "code",
      "metadata": {
        "scrolled": true,
        "trusted": false,
        "_uuid": "5bcdd240ddb16252e8f1504184bff0ab909c2507",
        "id": "gOGXtXgTCroa"
      },
      "source": [
        "params = xgb_bo.res['max']['max_params']\n",
        "params['max_depth'] = int(params['max_depth'])"
      ],
      "execution_count": null,
      "outputs": []
    },
    {
      "cell_type": "markdown",
      "metadata": {
        "_uuid": "13442121790f66bc29cd6f1bbb72f3a3195a399d",
        "id": "TLHnx9FQCroe"
      },
      "source": [
        "## Testing"
      ]
    },
    {
      "cell_type": "code",
      "metadata": {
        "scrolled": true,
        "trusted": false,
        "_uuid": "8ac2492334bafc4e5ce14ae4a3551410364734c5",
        "id": "e5UK1IGTCrof"
      },
      "source": [
        "# Train a new model with the best parameters from the search\n",
        "model2 = xgb.train(params, dtrain, num_boost_round=1000)\n",
        "\n",
        "# Predict on testing and training set\n",
        "y_pred = model2.predict(dtest)\n",
        "y_train_pred = model2.predict(dtrain)\n",
        "\n",
        "# Report testing and training RMSE\n",
        "print(np.sqrt(mean_squared_error(y_test, y_pred)))\n",
        "print(np.sqrt(mean_squared_error(y_train, y_train_pred)))"
      ],
      "execution_count": null,
      "outputs": []
    },
    {
      "cell_type": "markdown",
      "metadata": {
        "_uuid": "cc64e637343735df98c269fc90724afbf23bb91d",
        "id": "brOA3gJ2Crok"
      },
      "source": [
        "## Feature Importance"
      ]
    },
    {
      "cell_type": "code",
      "metadata": {
        "scrolled": false,
        "trusted": false,
        "_uuid": "7cf00b45f4ed10d0bd9228815026ef79201f75fa",
        "id": "uNDP70GECrol",
        "colab": {
          "base_uri": "https://localhost:8080/",
          "height": 409
        },
        "outputId": "dcf2a976-93bb-4af7-da4c-52780a27ca6f"
      },
      "source": [
        "import matplotlib.pyplot as plt\n",
        "fscores = pd.DataFrame({'X': list(model2.get_fscore().keys()), 'Y': list(model2.get_fscore().values())})\n",
        "fscores.sort_values(by='Y').plot.bar(x='X')"
      ],
      "execution_count": null,
      "outputs": [
        {
          "output_type": "execute_result",
          "data": {
            "text/plain": [
              "<matplotlib.axes._subplots.AxesSubplot at 0x7fb73e851320>"
            ]
          },
          "metadata": {
            "tags": []
          },
          "execution_count": 18
        },
        {
          "output_type": "display_data",
          "data": {
            "image/png": "[encoded data removed]",
            "text/plain": [
              "<Figure size 432x288 with 1 Axes>"
            ]
          },
          "metadata": {
            "tags": [],
            "needs_background": "light"
          }
        }
      ]
    },
    {
      "cell_type": "markdown",
      "metadata": {
        "_uuid": "461627feced782418ab2c66b195edb08bf48735b",
        "id": "2UDMVgcbCrop"
      },
      "source": [
        "## Predict on Holdout Set"
      ]
    },
    {
      "cell_type": "code",
      "metadata": {
        "scrolled": true,
        "trusted": false,
        "_uuid": "00e848082e3aa325b0677bf39b4194f5fc221377",
        "id": "cdEF-eeFCroq"
      },
      "source": [
        "test = pd.read_csv('/content/drive/My Drive/NJIT/CS634/Project 2/test.csv').set_index('key')\n",
        "test['pickup_datetime'] = test['pickup_datetime'].str.slice(0, 16)\n",
        "test['pickup_datetime'] = pd.to_datetime(test['pickup_datetime'], utc=True, format='%Y-%m-%d %H:%M')\n",
        "\n",
        "# Predict on holdout set\n",
        "test = transform(test)\n",
        "dtest = xgb.DMatrix(test)\n",
        "y_pred_test = model2.predict(dtest)"
      ],
      "execution_count": null,
      "outputs": []
    },
    {
      "cell_type": "markdown",
      "metadata": {
        "_uuid": "725915fef9caac7c0802f64ef0020bdc4baf9dbf",
        "id": "uaZHxx2VCroz"
      },
      "source": [
        "## Submit predictions"
      ]
    },
    {
      "cell_type": "code",
      "metadata": {
        "trusted": false,
        "_uuid": "e2f8eef8b3b75620ca617f49e7b640be8d2722f7",
        "id": "6tuoPdZmCro0"
      },
      "source": [
        "holdout = pd.DataFrame({'key': test.index, 'fare_amount': y_pred_test})\n",
        "holdout.to_csv('/content/drive/My Drive/NJIT/CS634/Project 2/submission_Final.csv', index=False)"
      ],
      "execution_count": null,
      "outputs": []
    },
    {
      "cell_type": "markdown",
      "metadata": {
        "_uuid": "725915fef9caac7c0802f64ef0020bdc4baf9dbf",
        "id": "T3OVbIreIOOI"
      },
      "source": [
        "## Conclusion\n",
        "XGBoost is a decision-tree-based ensemble Machine Learning algorithm that uses a gradient boosting framework. Bayesian optimization is a sequential design strategy for global optimization of black-box functions that does not assume any functional forms.\n",
        "\n",
        "Note that only 1 million of the 55 million rows were used for the prediction model due to Colab capacity. After applying Bayesian optimization to XGBoost, it gives a score of 3.20200 when submitting to Kaggle, ranked 442 among all 1484 submissions (top 30%). With less than 2% of the data used, it is still much better than linear models (scoring around 5). \n",
        "\n",
        "In fact, the score can be better if optimizing some hyperparameters (eg.increasing number of boosting rounds, number of folds, and number of iternations). However, it will be a very time-consuming process and probably out of Colab's capacity. \n",
        "\n",
        "\n"
      ]
    }
  ]
}